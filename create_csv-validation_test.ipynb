{
 "cells": [
  {
   "cell_type": "code",
   "execution_count": null,
   "metadata": {
    "_uuid": "1e817a26ad0b0d85c41b4ab529a9c73e253764a9"
   },
   "outputs": [],
   "source": [
    "import torch\n",
    "import torch.nn.functional as F\n",
    "import torch.nn as nn\n",
    "import math\n",
    "import time\n",
    "import pandas as pd\n",
    "import numpy as np\n",
    "import os\n",
    "import matplotlib.pyplot as plt\n",
    "from ast import literal_eval\n",
    "from torch.utils.data.dataset import Dataset\n",
    "from torch.utils.data import DataLoader\n",
    "from torch.utils.data.sampler import *\n",
    "# from imageUtils import *\n",
    "import pickle"
   ]
  },
  {
   "cell_type": "code",
   "execution_count": null,
   "metadata": {
    "_uuid": "3ffdead9d5d81d22177c2c44c3376915f253fe81"
   },
   "outputs": [],
   "source": [
    "CLASS_NAME=\\\n",
    "['The_Eiffel_Tower', 'The_Great_Wall_of_China', 'The_Mona_Lisa', 'airplane', 'alarm_clock', 'ambulance', 'angel',\n",
    " 'animal_migration', 'ant', 'anvil', 'apple', 'arm', 'asparagus', 'axe', 'backpack', 'banana', 'bandage', 'barn',\n",
    " 'baseball', 'baseball_bat', 'basket', 'basketball', 'bat', 'bathtub', 'beach', 'bear', 'beard', 'bed', 'bee',\n",
    " 'belt', 'bench', 'bicycle', 'binoculars', 'bird', 'birthday_cake', 'blackberry', 'blueberry', 'book',\n",
    " 'boomerang', 'bottlecap', 'bowtie', 'bracelet', 'brain', 'bread', 'bridge', 'broccoli', 'broom',\n",
    " 'bucket', 'bulldozer', 'bus', 'bush', 'butterfly', 'cactus', 'cake', 'calculator', 'calendar', 'camel',\n",
    " 'camera', 'camouflage', 'campfire', 'candle', 'cannon', 'canoe', 'car', 'carrot', 'castle', 'cat', 'ceiling_fan',\n",
    " 'cell_phone', 'cello', 'chair', 'chandelier', 'church', 'circle', 'clarinet', 'clock', 'cloud', 'coffee_cup',\n",
    " 'compass', 'computer', 'cookie', 'cooler', 'couch', 'cow', 'crab', 'crayon', 'crocodile', 'crown', 'cruise_ship',\n",
    " 'cup', 'diamond', 'dishwasher', 'diving_board', 'dog', 'dolphin', 'donut', 'door', 'dragon', 'dresser',\n",
    " 'drill', 'drums', 'duck', 'dumbbell', 'ear', 'elbow', 'elephant', 'envelope', 'eraser', 'eye', 'eyeglasses',\n",
    " 'face', 'fan', 'feather', 'fence', 'finger', 'fire_hydrant', 'fireplace', 'firetruck', 'fish', 'flamingo',\n",
    " 'flashlight', 'flip_flops', 'floor_lamp', 'flower', 'flying_saucer', 'foot', 'fork', 'frog', 'frying_pan',\n",
    " 'garden', 'garden_hose', 'giraffe', 'goatee', 'golf_club', 'grapes', 'grass', 'guitar', 'hamburger',\n",
    " 'hammer', 'hand', 'harp', 'hat', 'headphones', 'hedgehog', 'helicopter', 'helmet', 'hexagon', 'hockey_puck',\n",
    " 'hockey_stick', 'horse', 'hospital', 'hot_air_balloon', 'hot_dog', 'hot_tub', 'hourglass', 'house', 'house_plant',\n",
    " 'hurricane', 'ice_cream', 'jacket', 'jail', 'kangaroo', 'key', 'keyboard', 'knee', 'ladder', 'lantern', 'laptop',\n",
    " 'leaf', 'leg', 'light_bulb', 'lighthouse', 'lightning', 'line', 'lion', 'lipstick', 'lobster', 'lollipop', 'mailbox',\n",
    " 'map', 'marker', 'matches', 'megaphone', 'mermaid', 'microphone', 'microwave', 'monkey', 'moon', 'mosquito',\n",
    " 'motorbike', 'mountain', 'mouse', 'moustache', 'mouth', 'mug', 'mushroom', 'nail', 'necklace', 'nose', 'ocean',\n",
    " 'octagon', 'octopus', 'onion', 'oven', 'owl', 'paint_can', 'paintbrush', 'palm_tree', 'panda', 'pants',\n",
    " 'paper_clip', 'parachute', 'parrot', 'passport', 'peanut', 'pear', 'peas', 'pencil', 'penguin', 'piano',\n",
    " 'pickup_truck', 'picture_frame', 'pig', 'pillow', 'pineapple', 'pizza', 'pliers', 'police_car', 'pond',\n",
    " 'pool', 'popsicle', 'postcard', 'potato', 'power_outlet', 'purse', 'rabbit', 'raccoon', 'radio', 'rain',\n",
    " 'rainbow', 'rake', 'remote_control', 'rhinoceros', 'river', 'roller_coaster', 'rollerskates', 'sailboat',\n",
    " 'sandwich', 'saw', 'saxophone', 'school_bus', 'scissors', 'scorpion', 'screwdriver', 'sea_turtle', 'see_saw',\n",
    " 'shark', 'sheep', 'shoe', 'shorts', 'shovel', 'sink', 'skateboard', 'skull', 'skyscraper', 'sleeping_bag',\n",
    " 'smiley_face', 'snail', 'snake', 'snorkel', 'snowflake', 'snowman', 'soccer_ball', 'sock', 'speedboat',\n",
    " 'spider', 'spoon', 'spreadsheet', 'square', 'squiggle', 'squirrel', 'stairs', 'star', 'steak', 'stereo',\n",
    " 'stethoscope', 'stitches', 'stop_sign', 'stove', 'strawberry', 'streetlight', 'string_bean', 'submarine',\n",
    " 'suitcase', 'sun', 'swan', 'sweater', 'swing_set', 'sword', 't-shirt', 'table', 'teapot', 'teddy-bear',\n",
    " 'telephone', 'television', 'tennis_racquet', 'tent', 'tiger', 'toaster', 'toe', 'toilet', 'tooth',\n",
    " 'toothbrush', 'toothpaste', 'tornado', 'tractor', 'traffic_light', 'train', 'tree', 'triangle',\n",
    " 'trombone', 'truck', 'trumpet', 'umbrella', 'underwear', 'van', 'vase', 'violin', 'washing_machine',\n",
    " 'watermelon', 'waterslide', 'whale', 'wheel', 'windmill', 'wine_bottle', 'wine_glass', 'wristwatch',\n",
    " 'yoga', 'zebra', 'zigzag']"
   ]
  },
  {
   "cell_type": "code",
   "execution_count": null,
   "metadata": {
    "_uuid": "9f5c1e5f6fa78e8cf197d439b6a586ab990729de"
   },
   "outputs": [],
   "source": [
    "df_files =['train_simplified/%s.csv'%(name.replace('_', ' ')) for name in CLASS_NAME]"
   ]
  },
  {
   "cell_type": "code",
   "execution_count": null,
   "metadata": {
    "_uuid": "b61c905c4576effd093a832367a3568aa46e5551"
   },
   "outputs": [],
   "source": [
    "def read_one_df_file(df_file):\n",
    "    name = df_file.split('/')[-1].replace('.csv','')\n",
    "    df = pd.read_csv(df_file)\n",
    "    #df = df.sample(50000)\n",
    "    #print(df['recognized'][0])\n",
    "    #df = df.loc[df['recognized'][0] == True]\n",
    "    #print(df.loc[df['recognized'][0] == True])\n",
    "    df_true = df['recognized'] == True\n",
    "    df_new = df[df_true]\n",
    "    #is_2002 =  gapminder['year']==2002\n",
    "    #gapminder_2002 = gapminder[is_2002]\n",
    "    df_new_train_valid = df_new.head(40000)\n",
    "    train_df = df_new_train_valid.head(30000)\n",
    "    valid_df = df_new_train_valid.tail(10000)\n",
    "    df_new = df_new.tail(10000)\n",
    "    #print(df_new)\n",
    "    csv_file1 = 'train_simplified_modified/%s.csv'%(name)\n",
    "    csv_file2 = 'valid_simplified_modified/%s.csv'%(name)\n",
    "    csv_file3 = 'test_simplified_modified/%s.csv'%(name)\n",
    "    train_df.to_csv(csv_file1, index=False, columns=['countrycode','drawing','key_id','recognized','timestamp','word'], compression='')\n",
    "    valid_df.to_csv(csv_file2, index=False, columns=['countrycode','drawing','key_id','recognized','timestamp','word'], compression='')\n",
    "    df_new.to_csv(csv_file3, index=False, columns=['countrycode','drawing','key_id','recognized','timestamp','word'], compression='')\n",
    "             \n",
    "    #csv_file = 'train_simplified_modified/%s.csv'%(name)\n",
    "    #df.to_csv(csv_file, index=False, columns=['countrycode','drawing','key_id','recognized','timestamp','word'], compression='')"
   ]
  },
  {
   "cell_type": "code",
   "execution_count": null,
   "metadata": {
    "_uuid": "863a76ef0e928c27567ba7992291ca4c1e1e7d0c"
   },
   "outputs": [],
   "source": [
    "read_one_df_file(df_files[0])"
   ]
  },
  {
   "cell_type": "code",
   "execution_count": null,
   "metadata": {
    "_uuid": "8f67ff7022c1aa791c76b752b96b4521a6097189"
   },
   "outputs": [],
   "source": [
    "for f in df_files:\n",
    "    read_one_df_file(f)"
   ]
  }
 ],
 "metadata": {
  "kernelspec": {
   "display_name": "Python 3",
   "language": "python",
   "name": "python3"
  },
  "language_info": {
   "codemirror_mode": {
    "name": "ipython",
    "version": 3
   },
   "file_extension": ".py",
   "mimetype": "text/x-python",
   "name": "python",
   "nbconvert_exporter": "python",
   "pygments_lexer": "ipython3",
   "version": "3.6.7"
  }
 },
 "nbformat": 4,
 "nbformat_minor": 1
}
