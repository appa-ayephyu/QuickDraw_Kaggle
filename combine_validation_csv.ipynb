{
 "cells": [
  {
   "cell_type": "code",
   "execution_count": 4,
   "metadata": {
    "_cell_guid": "b1076dfc-b9ad-4769-8c92-a6c4dae69d19",
    "_uuid": "8f2839f25d086af736a60e9eeb907d3b93b6e0e5"
   },
   "outputs": [
    {
     "name": "stdout",
     "output_type": "stream",
     "text": [
      "['valid_simplified.csv', 'train_simplified.zip', 'input', 'validation_elmo.csv', 'data_v1', 'test_simplified_modified', 'use_this-train_simplified_modified.tar.gz', '2018-10-10', 'create_csv.ipynb', 'train_simplified_modified', 'submission', 'validation_linc.csv', 'valid_simplified_modified', 'validation_aye.csv', 'kernels', '2018-10-08', 'temporal_drawing_comparison.txt', '.ipynb_checkpoints', 'data', 'LSTM model- Quick Draw.ipynb', 'pretrained', '.git', 'output_v1-2', 'output', 'output_v1-1']\n",
      "['train_simplified']\n",
      "['chandelier.csv', 'cake.csv', 'butterfly.csv', 'police car.csv', 'panda.csv', 'triangle.csv', 'shark.csv', 'blueberry.csv', 't-shirt.csv', 'bottlecap.csv', 'basketball.csv', 'broccoli.csv', 'horse.csv', 'frog.csv', 'television.csv', 'camel.csv', 'skull.csv', 'palm tree.csv', 'zigzag.csv', 'bicycle.csv', 'umbrella.csv', 'wine bottle.csv', 'drill.csv', 'clarinet.csv', 'castle.csv', 'sweater.csv', 'computer.csv', 'bird.csv', 'duck.csv', 'binoculars.csv', 'submarine.csv', 'broom.csv', 'toe.csv', 'yoga.csv', 'square.csv', 'pillow.csv', 'stitches.csv', 'grass.csv', 'animal migration.csv', 'underwear.csv', 'washing machine.csv', 'line.csv', 'radio.csv', 'lighthouse.csv', 'compass.csv', 'spoon.csv', 'floor lamp.csv', 'dog.csv', 'stereo.csv', 'foot.csv', 'bed.csv', 'hot dog.csv', 'fork.csv', 'skyscraper.csv', 'blackberry.csv', 'power outlet.csv', 'hedgehog.csv', 'fence.csv', 'jacket.csv', 'camera.csv', 'spreadsheet.csv', 'boomerang.csv', 'toilet.csv', 'lipstick.csv', 'mailbox.csv', 'mushroom.csv', 'roller coaster.csv', 'zebra.csv', 'pond.csv', 'crayon.csv', 'sea turtle.csv', 'belt.csv', 'hockey stick.csv', 'pear.csv', 'train.csv', 'beach.csv', 'tooth.csv', 'pool.csv', 'paint can.csv', 'circle.csv', 'shorts.csv', 'guitar.csv', 'lantern.csv', 'bush.csv', 'bathtub.csv', 'toaster.csv', 'envelope.csv', 'helmet.csv', 'ant.csv', 'calculator.csv', 'penguin.csv', 'chair.csv', 'leg.csv', 'swing set.csv', 'lion.csv', 'bee.csv', 'backpack.csv', 'stethoscope.csv', 'paintbrush.csv', 'waterslide.csv', 'dishwasher.csv', 'crocodile.csv', 'tennis racquet.csv', 'popsicle.csv', 'diamond.csv', 'baseball.csv', 'strawberry.csv', 'bridge.csv', 'mouth.csv', 'soccer ball.csv', 'house.csv', 'arm.csv', 'rainbow.csv', 'crown.csv', 'sheep.csv', 'elephant.csv', 'tractor.csv', 'snake.csv', 'The Mona Lisa.csv', 'campfire.csv', 'rollerskates.csv', 'sink.csv', 'speedboat.csv', 'cannon.csv', 'leaf.csv', 'car.csv', 'ladder.csv', 'grapes.csv', 'headphones.csv', 'smiley face.csv', 'baseball bat.csv', 'violin.csv', 'shoe.csv', 'raccoon.csv', 'nail.csv', 'steak.csv', 'table.csv', 'megaphone.csv', 'hexagon.csv', 'finger.csv', 'bracelet.csv', 'flashlight.csv', 'bucket.csv', 'ear.csv', 'river.csv', 'pickup truck.csv', 'camouflage.csv', 'brain.csv', 'school bus.csv', 'flip flops.csv', 'ceiling fan.csv', 'dresser.csv', 'cookie.csv', 'bus.csv', 'flower.csv', 'hand.csv', 'book.csv', 'oven.csv', 'parrot.csv', 'remote control.csv', 'The Great Wall of China.csv', 'sock.csv', 'light bulb.csv', 'bandage.csv', 'moon.csv', 'knee.csv', 'drums.csv', 'calendar.csv', 'candle.csv', 'dolphin.csv', 'giraffe.csv', 'pliers.csv', 'snowflake.csv', 'apple.csv', 'motorbike.csv', 'vase.csv', 'onion.csv', 'golf club.csv', 'cactus.csv', 'paper clip.csv', 'tent.csv', 'scorpion.csv', 'trombone.csv', 'snail.csv', 'bench.csv', 'cow.csv', 'picture frame.csv', 'donut.csv', 'jail.csv', 'bulldozer.csv', 'couch.csv', 'microwave.csv', 'snorkel.csv', 'beard.csv', 'garden hose.csv', 'spider.csv', 'nose.csv', 'suitcase.csv', 'firetruck.csv', 'elbow.csv', 'watermelon.csv', 'The Eiffel Tower.csv', 'cooler.csv', 'telephone.csv', 'toothbrush.csv', 'octopus.csv', 'pig.csv', 'kangaroo.csv', 'cat.csv', 'coffee cup.csv', 'traffic light.csv', 'mountain.csv', 'keyboard.csv', 'saw.csv', 'shovel.csv', 'carrot.csv', 'windmill.csv', 'fire hydrant.csv', 'feather.csv', 'truck.csv', 'fan.csv', 'mouse.csv', 'rhinoceros.csv', 'flying saucer.csv', 'pencil.csv', 'ice cream.csv', 'cloud.csv', 'purse.csv', 'swan.csv', 'canoe.csv', 'key.csv', 'axe.csv', 'airplane.csv', 'sword.csv', 'fireplace.csv', 'hospital.csv', 'dragon.csv', 'church.csv', 'hot tub.csv', 'postcard.csv', 'crab.csv', 'pants.csv', 'goatee.csv', 'cruise ship.csv', 'rain.csv', 'toothpaste.csv', 'house plant.csv', 'rake.csv', 'pineapple.csv', 'frying pan.csv', 'necklace.csv', 'owl.csv', 'parachute.csv', 'matches.csv', 'flamingo.csv', 'birthday cake.csv', 'teapot.csv', 'hat.csv', 'lollipop.csv', 'sailboat.csv', 'bowtie.csv', 'stove.csv', 'marker.csv', 'basket.csv', 'map.csv', 'moustache.csv', 'lightning.csv', 'clock.csv', 'scissors.csv', 'hot air balloon.csv', 'diving board.csv', 'stop sign.csv', 'helicopter.csv', 'screwdriver.csv', 'streetlight.csv', 'hammer.csv', 'rabbit.csv', 'monkey.csv', 'stairs.csv', 'mermaid.csv', 'hamburger.csv', 'garden.csv', 'eye.csv', 'wine glass.csv', 'star.csv', 'hurricane.csv', 'eraser.csv', 'tiger.csv', 'octagon.csv', 'skateboard.csv', 'bread.csv', 'ocean.csv', 'door.csv', 'piano.csv', 'cello.csv', 'string bean.csv', 'teddy-bear.csv', 'sandwich.csv', 'tree.csv', 'lobster.csv', 'squiggle.csv', 'fish.csv', 'mug.csv', 'sleeping bag.csv', 'passport.csv', 'potato.csv', 'bear.csv', 'see saw.csv', 'anvil.csv', 'hourglass.csv', 'peas.csv', 'pizza.csv', 'trumpet.csv', 'eyeglasses.csv', 'microphone.csv', 'barn.csv', 'asparagus.csv', 'cup.csv', 'cell phone.csv', 'squirrel.csv', 'saxophone.csv', 'ambulance.csv', 'dumbbell.csv', 'laptop.csv', 'whale.csv', 'snowman.csv', 'wristwatch.csv', 'banana.csv', 'tornado.csv', 'peanut.csv', 'harp.csv', 'sun.csv', 'van.csv', 'wheel.csv', 'bat.csv', 'angel.csv', 'mosquito.csv', 'face.csv', 'hockey puck.csv', 'alarm clock.csv']\n"
     ]
    }
   ],
   "source": [
    "# This Python 3 environment comes with many helpful analytics libraries installed\n",
    "# It is defined by the kaggle/python docker image: https://github.com/kaggle/docker-python\n",
    "# For example, here's several helpful packages to load in \n",
    "\n",
    "import numpy as np # linear algebra\n",
    "import pandas as pd # data processing, CSV file I/O (e.g. pd.read_csv)\n",
    "\n",
    "# Input data files are available in the \"../input/\" directory.\n",
    "# For example, running this (by clicking run or pressing Shift+Enter) will list the files in the input directory\n",
    "\n",
    "import os"
   ]
  },
  {
   "cell_type": "code",
   "execution_count": 5,
   "metadata": {},
   "outputs": [
    {
     "name": "stdout",
     "output_type": "stream",
     "text": [
      "['', '/home/cheeseprata/anaconda3/envs/pytorch/lib/python36.zip', '/home/cheeseprata/anaconda3/envs/pytorch/lib/python3.6', '/home/cheeseprata/anaconda3/envs/pytorch/lib/python3.6/lib-dynload', '/home/cheeseprata/.local/lib/python3.6/site-packages', '/home/cheeseprata/anaconda3/envs/pytorch/lib/python3.6/site-packages', '/home/cheeseprata/anaconda3/envs/pytorch/lib/python3.6/site-packages/torchvision-0.2.1-py3.6.egg', '/home/cheeseprata/anaconda3/envs/pytorch/lib/python3.6/site-packages/IPython/extensions', '/home/cheeseprata/.ipython']\n"
     ]
    }
   ],
   "source": [
    "import sys\n",
    "\n",
    "print(sys.path)"
   ]
  },
  {
   "cell_type": "code",
   "execution_count": 6,
   "metadata": {
    "_cell_guid": "79c7e3d0-c299-4dcb-8224-4455121ee9b0",
    "_uuid": "d629ff2d2480ee46fbb7e2d37f6b5fab8052498a"
   },
   "outputs": [
    {
     "name": "stdout",
     "output_type": "stream",
     "text": [
      "0.4.1.post2\n"
     ]
    }
   ],
   "source": [
    "import torch\n",
    "\n",
    "print(torch.__version__)"
   ]
  },
  {
   "cell_type": "code",
   "execution_count": 64,
   "metadata": {},
   "outputs": [],
   "source": [
    "column_names_aye = ['key_id','probabilities_aye','class_id_aye']"
   ]
  },
  {
   "cell_type": "code",
   "execution_count": 65,
   "metadata": {},
   "outputs": [
    {
     "data": {
      "text/html": [
       "<div>\n",
       "<style scoped>\n",
       "    .dataframe tbody tr th:only-of-type {\n",
       "        vertical-align: middle;\n",
       "    }\n",
       "\n",
       "    .dataframe tbody tr th {\n",
       "        vertical-align: top;\n",
       "    }\n",
       "\n",
       "    .dataframe thead th {\n",
       "        text-align: right;\n",
       "    }\n",
       "</style>\n",
       "<table border=\"1\" class=\"dataframe\">\n",
       "  <thead>\n",
       "    <tr style=\"text-align: right;\">\n",
       "      <th></th>\n",
       "      <th>key_id</th>\n",
       "      <th>probabilities_aye</th>\n",
       "      <th>class_id_aye</th>\n",
       "    </tr>\n",
       "  </thead>\n",
       "  <tbody>\n",
       "    <tr>\n",
       "      <th>0</th>\n",
       "      <td>5054234925989888</td>\n",
       "      <td>[0.9982976317405701, 0.00025638070655986667, 0...</td>\n",
       "      <td>[0, 217, 308, 30, 81, 165, 58, 85, 38, 206]</td>\n",
       "    </tr>\n",
       "    <tr>\n",
       "      <th>1</th>\n",
       "      <td>5754535014301696</td>\n",
       "      <td>[0.9981287121772766, 0.0008819419308565557, 0....</td>\n",
       "      <td>[0, 306, 44, 190, 286, 297, 319, 244, 330, 165]</td>\n",
       "    </tr>\n",
       "    <tr>\n",
       "      <th>2</th>\n",
       "      <td>6010760482258944</td>\n",
       "      <td>[0.6661585569381714, 0.2732973098754883, 0.014...</td>\n",
       "      <td>[270, 225, 58, 74, 337, 0, 81, 55, 254, 319]</td>\n",
       "    </tr>\n",
       "    <tr>\n",
       "      <th>3</th>\n",
       "      <td>6677025135788032</td>\n",
       "      <td>[0.3110988140106201, 0.24152500927448273, 0.19...</td>\n",
       "      <td>[243, 226, 0, 1, 130, 251, 161, 279, 131, 114]</td>\n",
       "    </tr>\n",
       "    <tr>\n",
       "      <th>4</th>\n",
       "      <td>5017604076863488</td>\n",
       "      <td>[0.9166284799575806, 0.027700455859303474, 0.0...</td>\n",
       "      <td>[0, 30, 145, 124, 319, 17, 70, 206, 71, 219]</td>\n",
       "    </tr>\n",
       "  </tbody>\n",
       "</table>\n",
       "</div>"
      ],
      "text/plain": [
       "             key_id                                  probabilities_aye  \\\n",
       "0  5054234925989888  [0.9982976317405701, 0.00025638070655986667, 0...   \n",
       "1  5754535014301696  [0.9981287121772766, 0.0008819419308565557, 0....   \n",
       "2  6010760482258944  [0.6661585569381714, 0.2732973098754883, 0.014...   \n",
       "3  6677025135788032  [0.3110988140106201, 0.24152500927448273, 0.19...   \n",
       "4  5017604076863488  [0.9166284799575806, 0.027700455859303474, 0.0...   \n",
       "\n",
       "                                      class_id_aye  \n",
       "0      [0, 217, 308, 30, 81, 165, 58, 85, 38, 206]  \n",
       "1  [0, 306, 44, 190, 286, 297, 319, 244, 330, 165]  \n",
       "2     [270, 225, 58, 74, 337, 0, 81, 55, 254, 319]  \n",
       "3   [243, 226, 0, 1, 130, 251, 161, 279, 131, 114]  \n",
       "4     [0, 30, 145, 124, 319, 17, 70, 206, 71, 219]  "
      ]
     },
     "execution_count": 65,
     "metadata": {},
     "output_type": "execute_result"
    }
   ],
   "source": [
    "df_aye = pd.read_csv('../validation_aye.csv', header=None, names=column_names_aye)\n",
    "df_aye.head()"
   ]
  },
  {
   "cell_type": "code",
   "execution_count": 67,
   "metadata": {},
   "outputs": [
    {
     "data": {
      "text/plain": [
       "3399660"
      ]
     },
     "execution_count": 67,
     "metadata": {},
     "output_type": "execute_result"
    }
   ],
   "source": [
    "len(df_aye)"
   ]
  },
  {
   "cell_type": "code",
   "execution_count": 68,
   "metadata": {},
   "outputs": [],
   "source": [
    "column_names_linc = ['key_id','probabilities_linc','class_id_linc']"
   ]
  },
  {
   "cell_type": "code",
   "execution_count": 69,
   "metadata": {},
   "outputs": [
    {
     "data": {
      "text/html": [
       "<div>\n",
       "<style scoped>\n",
       "    .dataframe tbody tr th:only-of-type {\n",
       "        vertical-align: middle;\n",
       "    }\n",
       "\n",
       "    .dataframe tbody tr th {\n",
       "        vertical-align: top;\n",
       "    }\n",
       "\n",
       "    .dataframe thead th {\n",
       "        text-align: right;\n",
       "    }\n",
       "</style>\n",
       "<table border=\"1\" class=\"dataframe\">\n",
       "  <thead>\n",
       "    <tr style=\"text-align: right;\">\n",
       "      <th></th>\n",
       "      <th>key_id</th>\n",
       "      <th>probabilities_linc</th>\n",
       "      <th>class_id_linc</th>\n",
       "    </tr>\n",
       "  </thead>\n",
       "  <tbody>\n",
       "    <tr>\n",
       "      <th>0</th>\n",
       "      <td>[6341030599196672]</td>\n",
       "      <td>[1.0, 2.1944435601994883e-08, 3.87791709854923...</td>\n",
       "      <td>[0, 306, 226, 165, 44, 74, 171, 38, 264, 337]</td>\n",
       "    </tr>\n",
       "    <tr>\n",
       "      <th>1</th>\n",
       "      <td>[4752894672764928]</td>\n",
       "      <td>[0.9998251795768738, 0.00010532637679716572, 5...</td>\n",
       "      <td>[0, 306, 226, 38, 319, 190, 13, 209, 282, 198]</td>\n",
       "    </tr>\n",
       "    <tr>\n",
       "      <th>2</th>\n",
       "      <td>[6340305538252800]</td>\n",
       "      <td>[1.0, 2.8131068585679486e-09, 9.31472565746105...</td>\n",
       "      <td>[0, 226, 306, 46, 240, 264, 165, 70, 72, 74]</td>\n",
       "    </tr>\n",
       "    <tr>\n",
       "      <th>3</th>\n",
       "      <td>[5375560035336192]</td>\n",
       "      <td>[0.9335849285125732, 0.028212666511535645, 0.0...</td>\n",
       "      <td>[0, 165, 297, 190, 85, 226, 264, 172, 306, 13]</td>\n",
       "    </tr>\n",
       "    <tr>\n",
       "      <th>4</th>\n",
       "      <td>[5131120968466432]</td>\n",
       "      <td>[0.9999998807907104, 9.554816671197841e-08, 9....</td>\n",
       "      <td>[0, 306, 226, 190, 72, 165, 171, 44, 319, 264]</td>\n",
       "    </tr>\n",
       "  </tbody>\n",
       "</table>\n",
       "</div>"
      ],
      "text/plain": [
       "               key_id                                 probabilities_linc  \\\n",
       "0  [6341030599196672]  [1.0, 2.1944435601994883e-08, 3.87791709854923...   \n",
       "1  [4752894672764928]  [0.9998251795768738, 0.00010532637679716572, 5...   \n",
       "2  [6340305538252800]  [1.0, 2.8131068585679486e-09, 9.31472565746105...   \n",
       "3  [5375560035336192]  [0.9335849285125732, 0.028212666511535645, 0.0...   \n",
       "4  [5131120968466432]  [0.9999998807907104, 9.554816671197841e-08, 9....   \n",
       "\n",
       "                                    class_id_linc  \n",
       "0   [0, 306, 226, 165, 44, 74, 171, 38, 264, 337]  \n",
       "1  [0, 306, 226, 38, 319, 190, 13, 209, 282, 198]  \n",
       "2    [0, 226, 306, 46, 240, 264, 165, 70, 72, 74]  \n",
       "3  [0, 165, 297, 190, 85, 226, 264, 172, 306, 13]  \n",
       "4  [0, 306, 226, 190, 72, 165, 171, 44, 319, 264]  "
      ]
     },
     "execution_count": 69,
     "metadata": {},
     "output_type": "execute_result"
    }
   ],
   "source": [
    "df_linc = pd.read_csv('../validation_linc.csv', header=None, names=column_names_linc)\n",
    "df_linc.head()"
   ]
  },
  {
   "cell_type": "code",
   "execution_count": 70,
   "metadata": {},
   "outputs": [],
   "source": [
    "df_linc['key_id'] = df_linc['key_id'].apply(lambda x: int(x[1:-1]))"
   ]
  },
  {
   "cell_type": "code",
   "execution_count": 71,
   "metadata": {},
   "outputs": [
    {
     "data": {
      "text/html": [
       "<div>\n",
       "<style scoped>\n",
       "    .dataframe tbody tr th:only-of-type {\n",
       "        vertical-align: middle;\n",
       "    }\n",
       "\n",
       "    .dataframe tbody tr th {\n",
       "        vertical-align: top;\n",
       "    }\n",
       "\n",
       "    .dataframe thead th {\n",
       "        text-align: right;\n",
       "    }\n",
       "</style>\n",
       "<table border=\"1\" class=\"dataframe\">\n",
       "  <thead>\n",
       "    <tr style=\"text-align: right;\">\n",
       "      <th></th>\n",
       "      <th>key_id</th>\n",
       "      <th>probabilities_linc</th>\n",
       "      <th>class_id_linc</th>\n",
       "    </tr>\n",
       "  </thead>\n",
       "  <tbody>\n",
       "    <tr>\n",
       "      <th>0</th>\n",
       "      <td>6341030599196672</td>\n",
       "      <td>[1.0, 2.1944435601994883e-08, 3.87791709854923...</td>\n",
       "      <td>[0, 306, 226, 165, 44, 74, 171, 38, 264, 337]</td>\n",
       "    </tr>\n",
       "    <tr>\n",
       "      <th>1</th>\n",
       "      <td>4752894672764928</td>\n",
       "      <td>[0.9998251795768738, 0.00010532637679716572, 5...</td>\n",
       "      <td>[0, 306, 226, 38, 319, 190, 13, 209, 282, 198]</td>\n",
       "    </tr>\n",
       "    <tr>\n",
       "      <th>2</th>\n",
       "      <td>6340305538252800</td>\n",
       "      <td>[1.0, 2.8131068585679486e-09, 9.31472565746105...</td>\n",
       "      <td>[0, 226, 306, 46, 240, 264, 165, 70, 72, 74]</td>\n",
       "    </tr>\n",
       "    <tr>\n",
       "      <th>3</th>\n",
       "      <td>5375560035336192</td>\n",
       "      <td>[0.9335849285125732, 0.028212666511535645, 0.0...</td>\n",
       "      <td>[0, 165, 297, 190, 85, 226, 264, 172, 306, 13]</td>\n",
       "    </tr>\n",
       "    <tr>\n",
       "      <th>4</th>\n",
       "      <td>5131120968466432</td>\n",
       "      <td>[0.9999998807907104, 9.554816671197841e-08, 9....</td>\n",
       "      <td>[0, 306, 226, 190, 72, 165, 171, 44, 319, 264]</td>\n",
       "    </tr>\n",
       "  </tbody>\n",
       "</table>\n",
       "</div>"
      ],
      "text/plain": [
       "             key_id                                 probabilities_linc  \\\n",
       "0  6341030599196672  [1.0, 2.1944435601994883e-08, 3.87791709854923...   \n",
       "1  4752894672764928  [0.9998251795768738, 0.00010532637679716572, 5...   \n",
       "2  6340305538252800  [1.0, 2.8131068585679486e-09, 9.31472565746105...   \n",
       "3  5375560035336192  [0.9335849285125732, 0.028212666511535645, 0.0...   \n",
       "4  5131120968466432  [0.9999998807907104, 9.554816671197841e-08, 9....   \n",
       "\n",
       "                                    class_id_linc  \n",
       "0   [0, 306, 226, 165, 44, 74, 171, 38, 264, 337]  \n",
       "1  [0, 306, 226, 38, 319, 190, 13, 209, 282, 198]  \n",
       "2    [0, 226, 306, 46, 240, 264, 165, 70, 72, 74]  \n",
       "3  [0, 165, 297, 190, 85, 226, 264, 172, 306, 13]  \n",
       "4  [0, 306, 226, 190, 72, 165, 171, 44, 319, 264]  "
      ]
     },
     "execution_count": 71,
     "metadata": {},
     "output_type": "execute_result"
    }
   ],
   "source": [
    "df_linc.head()"
   ]
  },
  {
   "cell_type": "code",
   "execution_count": 72,
   "metadata": {},
   "outputs": [
    {
     "data": {
      "text/plain": [
       "3400000"
      ]
     },
     "execution_count": 72,
     "metadata": {},
     "output_type": "execute_result"
    }
   ],
   "source": [
    "len(df_linc)"
   ]
  },
  {
   "cell_type": "code",
   "execution_count": 73,
   "metadata": {},
   "outputs": [],
   "source": [
    "column_names_elmo = ['key_id','probabilities_elmo','class_id_elmo']"
   ]
  },
  {
   "cell_type": "code",
   "execution_count": 74,
   "metadata": {},
   "outputs": [
    {
     "data": {
      "text/html": [
       "<div>\n",
       "<style scoped>\n",
       "    .dataframe tbody tr th:only-of-type {\n",
       "        vertical-align: middle;\n",
       "    }\n",
       "\n",
       "    .dataframe tbody tr th {\n",
       "        vertical-align: top;\n",
       "    }\n",
       "\n",
       "    .dataframe thead th {\n",
       "        text-align: right;\n",
       "    }\n",
       "</style>\n",
       "<table border=\"1\" class=\"dataframe\">\n",
       "  <thead>\n",
       "    <tr style=\"text-align: right;\">\n",
       "      <th></th>\n",
       "      <th>key_id</th>\n",
       "      <th>probabilities_elmo</th>\n",
       "      <th>class_id_elmo</th>\n",
       "    </tr>\n",
       "  </thead>\n",
       "  <tbody>\n",
       "    <tr>\n",
       "      <th>0</th>\n",
       "      <td>4631565281787904</td>\n",
       "      <td>[0.9608024954795837, 0.025919508188962936, 0.0...</td>\n",
       "      <td>[207, 111, 118, 227, 177, 309, 238, 193, 262, ...</td>\n",
       "    </tr>\n",
       "    <tr>\n",
       "      <th>1</th>\n",
       "      <td>6668598091186176</td>\n",
       "      <td>[0.929155170917511, 0.06265021115541458, 0.007...</td>\n",
       "      <td>[77, 229, 184, 329, 238, 33, 72, 263, 286, 225]</td>\n",
       "    </tr>\n",
       "    <tr>\n",
       "      <th>2</th>\n",
       "      <td>5590618845741056</td>\n",
       "      <td>[0.8045099377632141, 0.11558780819177628, 0.02...</td>\n",
       "      <td>[42, 318, 108, 47, 39, 3, 55, 204, 169, 333]</td>\n",
       "    </tr>\n",
       "    <tr>\n",
       "      <th>3</th>\n",
       "      <td>6143035811299328</td>\n",
       "      <td>[0.928817093372345, 0.04820002242922783, 0.011...</td>\n",
       "      <td>[208, 297, 142, 36, 17, 14, 192, 40, 41, 216]</td>\n",
       "    </tr>\n",
       "    <tr>\n",
       "      <th>4</th>\n",
       "      <td>4667426077671424</td>\n",
       "      <td>[0.970852792263031, 0.006353217642754316, 0.00...</td>\n",
       "      <td>[311, 87, 324, 23, 35, 276, 143, 195, 194, 101]</td>\n",
       "    </tr>\n",
       "  </tbody>\n",
       "</table>\n",
       "</div>"
      ],
      "text/plain": [
       "             key_id                                 probabilities_elmo  \\\n",
       "0  4631565281787904  [0.9608024954795837, 0.025919508188962936, 0.0...   \n",
       "1  6668598091186176  [0.929155170917511, 0.06265021115541458, 0.007...   \n",
       "2  5590618845741056  [0.8045099377632141, 0.11558780819177628, 0.02...   \n",
       "3  6143035811299328  [0.928817093372345, 0.04820002242922783, 0.011...   \n",
       "4  4667426077671424  [0.970852792263031, 0.006353217642754316, 0.00...   \n",
       "\n",
       "                                       class_id_elmo  \n",
       "0  [207, 111, 118, 227, 177, 309, 238, 193, 262, ...  \n",
       "1    [77, 229, 184, 329, 238, 33, 72, 263, 286, 225]  \n",
       "2       [42, 318, 108, 47, 39, 3, 55, 204, 169, 333]  \n",
       "3      [208, 297, 142, 36, 17, 14, 192, 40, 41, 216]  \n",
       "4    [311, 87, 324, 23, 35, 276, 143, 195, 194, 101]  "
      ]
     },
     "execution_count": 74,
     "metadata": {},
     "output_type": "execute_result"
    }
   ],
   "source": [
    "df_elmo = pd.read_csv('../validation_elmo.csv', header=None, names=column_names_elmo)\n",
    "df_elmo.head()"
   ]
  },
  {
   "cell_type": "code",
   "execution_count": 110,
   "metadata": {},
   "outputs": [
    {
     "data": {
      "text/html": [
       "<div>\n",
       "<style scoped>\n",
       "    .dataframe tbody tr th:only-of-type {\n",
       "        vertical-align: middle;\n",
       "    }\n",
       "\n",
       "    .dataframe tbody tr th {\n",
       "        vertical-align: top;\n",
       "    }\n",
       "\n",
       "    .dataframe thead th {\n",
       "        text-align: right;\n",
       "    }\n",
       "</style>\n",
       "<table border=\"1\" class=\"dataframe\">\n",
       "  <thead>\n",
       "    <tr style=\"text-align: right;\">\n",
       "      <th></th>\n",
       "      <th>countrycode</th>\n",
       "      <th>drawing</th>\n",
       "      <th>key_id</th>\n",
       "      <th>recognized</th>\n",
       "      <th>timestamp</th>\n",
       "      <th>word</th>\n",
       "    </tr>\n",
       "  </thead>\n",
       "  <tbody>\n",
       "    <tr>\n",
       "      <th>0</th>\n",
       "      <td>KR</td>\n",
       "      <td>[[[63, 49, 25, 3, 0, 3, 54, 61, 72, 87, 113, 1...</td>\n",
       "      <td>5054234925989888</td>\n",
       "      <td>True</td>\n",
       "      <td>2017-03-20 12:17:34.390700</td>\n",
       "      <td>The Eiffel Tower</td>\n",
       "    </tr>\n",
       "    <tr>\n",
       "      <th>1</th>\n",
       "      <td>US</td>\n",
       "      <td>[[[5, 0, 47, 68, 72, 64], [255, 255, 162, 110,...</td>\n",
       "      <td>5754535014301696</td>\n",
       "      <td>True</td>\n",
       "      <td>2017-03-26 03:24:25.449110</td>\n",
       "      <td>The Eiffel Tower</td>\n",
       "    </tr>\n",
       "    <tr>\n",
       "      <th>2</th>\n",
       "      <td>ZZ</td>\n",
       "      <td>[[[125, 86, 64, 53, 88, 129, 222, 221, 207, 19...</td>\n",
       "      <td>6010760482258944</td>\n",
       "      <td>True</td>\n",
       "      <td>2017-03-27 13:17:24.890740</td>\n",
       "      <td>The Eiffel Tower</td>\n",
       "    </tr>\n",
       "    <tr>\n",
       "      <th>3</th>\n",
       "      <td>PR</td>\n",
       "      <td>[[[2, 0, 10, 23, 46, 57, 60, 72, 89, 103], [25...</td>\n",
       "      <td>6677025135788032</td>\n",
       "      <td>True</td>\n",
       "      <td>2017-03-29 15:56:12.724440</td>\n",
       "      <td>The Eiffel Tower</td>\n",
       "    </tr>\n",
       "    <tr>\n",
       "      <th>4</th>\n",
       "      <td>TR</td>\n",
       "      <td>[[[111, 88, 68], [1, 84, 135]], [[113, 120, 13...</td>\n",
       "      <td>5017604076863488</td>\n",
       "      <td>True</td>\n",
       "      <td>2017-01-24 21:40:07.428450</td>\n",
       "      <td>The Eiffel Tower</td>\n",
       "    </tr>\n",
       "  </tbody>\n",
       "</table>\n",
       "</div>"
      ],
      "text/plain": [
       "  countrycode                                            drawing  \\\n",
       "0          KR  [[[63, 49, 25, 3, 0, 3, 54, 61, 72, 87, 113, 1...   \n",
       "1          US  [[[5, 0, 47, 68, 72, 64], [255, 255, 162, 110,...   \n",
       "2          ZZ  [[[125, 86, 64, 53, 88, 129, 222, 221, 207, 19...   \n",
       "3          PR  [[[2, 0, 10, 23, 46, 57, 60, 72, 89, 103], [25...   \n",
       "4          TR  [[[111, 88, 68], [1, 84, 135]], [[113, 120, 13...   \n",
       "\n",
       "             key_id  recognized                   timestamp              word  \n",
       "0  5054234925989888        True  2017-03-20 12:17:34.390700  The Eiffel Tower  \n",
       "1  5754535014301696        True  2017-03-26 03:24:25.449110  The Eiffel Tower  \n",
       "2  6010760482258944        True  2017-03-27 13:17:24.890740  The Eiffel Tower  \n",
       "3  6677025135788032        True  2017-03-29 15:56:12.724440  The Eiffel Tower  \n",
       "4  5017604076863488        True  2017-01-24 21:40:07.428450  The Eiffel Tower  "
      ]
     },
     "execution_count": 110,
     "metadata": {},
     "output_type": "execute_result"
    }
   ],
   "source": [
    "df_alvin = pd.read_csv('../valid_simplified.csv')\n",
    "df_alvin.head()"
   ]
  },
  {
   "cell_type": "code",
   "execution_count": 111,
   "metadata": {},
   "outputs": [
    {
     "data": {
      "text/plain": [
       "3400000"
      ]
     },
     "execution_count": 111,
     "metadata": {},
     "output_type": "execute_result"
    }
   ],
   "source": [
    "len(df_alvin)"
   ]
  },
  {
   "cell_type": "code",
   "execution_count": 75,
   "metadata": {},
   "outputs": [
    {
     "data": {
      "text/plain": [
       "3399660"
      ]
     },
     "execution_count": 75,
     "metadata": {},
     "output_type": "execute_result"
    }
   ],
   "source": [
    "len(df_aye)"
   ]
  },
  {
   "cell_type": "code",
   "execution_count": 76,
   "metadata": {},
   "outputs": [
    {
     "data": {
      "text/plain": [
       "3400000"
      ]
     },
     "execution_count": 76,
     "metadata": {},
     "output_type": "execute_result"
    }
   ],
   "source": [
    "len(df_linc)"
   ]
  },
  {
   "cell_type": "code",
   "execution_count": 77,
   "metadata": {},
   "outputs": [
    {
     "data": {
      "text/plain": [
       "3120331"
      ]
     },
     "execution_count": 77,
     "metadata": {},
     "output_type": "execute_result"
    }
   ],
   "source": [
    "len(df_elmo)"
   ]
  },
  {
   "cell_type": "code",
   "execution_count": 112,
   "metadata": {},
   "outputs": [
    {
     "data": {
      "text/html": [
       "<div>\n",
       "<style scoped>\n",
       "    .dataframe tbody tr th:only-of-type {\n",
       "        vertical-align: middle;\n",
       "    }\n",
       "\n",
       "    .dataframe tbody tr th {\n",
       "        vertical-align: top;\n",
       "    }\n",
       "\n",
       "    .dataframe thead th {\n",
       "        text-align: right;\n",
       "    }\n",
       "</style>\n",
       "<table border=\"1\" class=\"dataframe\">\n",
       "  <thead>\n",
       "    <tr style=\"text-align: right;\">\n",
       "      <th></th>\n",
       "      <th>key_id</th>\n",
       "      <th>probabilities_aye</th>\n",
       "      <th>class_id_aye</th>\n",
       "      <th>countrycode</th>\n",
       "      <th>drawing</th>\n",
       "      <th>recognized</th>\n",
       "      <th>timestamp</th>\n",
       "      <th>word</th>\n",
       "    </tr>\n",
       "  </thead>\n",
       "  <tbody>\n",
       "    <tr>\n",
       "      <th>0</th>\n",
       "      <td>5054234925989888</td>\n",
       "      <td>[0.9982976317405701, 0.00025638070655986667, 0...</td>\n",
       "      <td>[0, 217, 308, 30, 81, 165, 58, 85, 38, 206]</td>\n",
       "      <td>KR</td>\n",
       "      <td>[[[63, 49, 25, 3, 0, 3, 54, 61, 72, 87, 113, 1...</td>\n",
       "      <td>True</td>\n",
       "      <td>2017-03-20 12:17:34.390700</td>\n",
       "      <td>The Eiffel Tower</td>\n",
       "    </tr>\n",
       "    <tr>\n",
       "      <th>1</th>\n",
       "      <td>5754535014301696</td>\n",
       "      <td>[0.9981287121772766, 0.0008819419308565557, 0....</td>\n",
       "      <td>[0, 306, 44, 190, 286, 297, 319, 244, 330, 165]</td>\n",
       "      <td>US</td>\n",
       "      <td>[[[5, 0, 47, 68, 72, 64], [255, 255, 162, 110,...</td>\n",
       "      <td>True</td>\n",
       "      <td>2017-03-26 03:24:25.449110</td>\n",
       "      <td>The Eiffel Tower</td>\n",
       "    </tr>\n",
       "    <tr>\n",
       "      <th>2</th>\n",
       "      <td>6010760482258944</td>\n",
       "      <td>[0.6661585569381714, 0.2732973098754883, 0.014...</td>\n",
       "      <td>[270, 225, 58, 74, 337, 0, 81, 55, 254, 319]</td>\n",
       "      <td>ZZ</td>\n",
       "      <td>[[[125, 86, 64, 53, 88, 129, 222, 221, 207, 19...</td>\n",
       "      <td>True</td>\n",
       "      <td>2017-03-27 13:17:24.890740</td>\n",
       "      <td>The Eiffel Tower</td>\n",
       "    </tr>\n",
       "    <tr>\n",
       "      <th>3</th>\n",
       "      <td>6677025135788032</td>\n",
       "      <td>[0.3110988140106201, 0.24152500927448273, 0.19...</td>\n",
       "      <td>[243, 226, 0, 1, 130, 251, 161, 279, 131, 114]</td>\n",
       "      <td>PR</td>\n",
       "      <td>[[[2, 0, 10, 23, 46, 57, 60, 72, 89, 103], [25...</td>\n",
       "      <td>True</td>\n",
       "      <td>2017-03-29 15:56:12.724440</td>\n",
       "      <td>The Eiffel Tower</td>\n",
       "    </tr>\n",
       "    <tr>\n",
       "      <th>4</th>\n",
       "      <td>5017604076863488</td>\n",
       "      <td>[0.9166284799575806, 0.027700455859303474, 0.0...</td>\n",
       "      <td>[0, 30, 145, 124, 319, 17, 70, 206, 71, 219]</td>\n",
       "      <td>TR</td>\n",
       "      <td>[[[111, 88, 68], [1, 84, 135]], [[113, 120, 13...</td>\n",
       "      <td>True</td>\n",
       "      <td>2017-01-24 21:40:07.428450</td>\n",
       "      <td>The Eiffel Tower</td>\n",
       "    </tr>\n",
       "  </tbody>\n",
       "</table>\n",
       "</div>"
      ],
      "text/plain": [
       "             key_id                                  probabilities_aye  \\\n",
       "0  5054234925989888  [0.9982976317405701, 0.00025638070655986667, 0...   \n",
       "1  5754535014301696  [0.9981287121772766, 0.0008819419308565557, 0....   \n",
       "2  6010760482258944  [0.6661585569381714, 0.2732973098754883, 0.014...   \n",
       "3  6677025135788032  [0.3110988140106201, 0.24152500927448273, 0.19...   \n",
       "4  5017604076863488  [0.9166284799575806, 0.027700455859303474, 0.0...   \n",
       "\n",
       "                                      class_id_aye countrycode  \\\n",
       "0      [0, 217, 308, 30, 81, 165, 58, 85, 38, 206]          KR   \n",
       "1  [0, 306, 44, 190, 286, 297, 319, 244, 330, 165]          US   \n",
       "2     [270, 225, 58, 74, 337, 0, 81, 55, 254, 319]          ZZ   \n",
       "3   [243, 226, 0, 1, 130, 251, 161, 279, 131, 114]          PR   \n",
       "4     [0, 30, 145, 124, 319, 17, 70, 206, 71, 219]          TR   \n",
       "\n",
       "                                             drawing  recognized  \\\n",
       "0  [[[63, 49, 25, 3, 0, 3, 54, 61, 72, 87, 113, 1...        True   \n",
       "1  [[[5, 0, 47, 68, 72, 64], [255, 255, 162, 110,...        True   \n",
       "2  [[[125, 86, 64, 53, 88, 129, 222, 221, 207, 19...        True   \n",
       "3  [[[2, 0, 10, 23, 46, 57, 60, 72, 89, 103], [25...        True   \n",
       "4  [[[111, 88, 68], [1, 84, 135]], [[113, 120, 13...        True   \n",
       "\n",
       "                    timestamp              word  \n",
       "0  2017-03-20 12:17:34.390700  The Eiffel Tower  \n",
       "1  2017-03-26 03:24:25.449110  The Eiffel Tower  \n",
       "2  2017-03-27 13:17:24.890740  The Eiffel Tower  \n",
       "3  2017-03-29 15:56:12.724440  The Eiffel Tower  \n",
       "4  2017-01-24 21:40:07.428450  The Eiffel Tower  "
      ]
     },
     "execution_count": 112,
     "metadata": {},
     "output_type": "execute_result"
    }
   ],
   "source": [
    "df_aye_alvin = pd.merge(df_aye, df_alvin, on='key_id')\n",
    "df_aye_alvin.head()"
   ]
  },
  {
   "cell_type": "code",
   "execution_count": 113,
   "metadata": {},
   "outputs": [
    {
     "data": {
      "text/plain": [
       "3399660"
      ]
     },
     "execution_count": 113,
     "metadata": {},
     "output_type": "execute_result"
    }
   ],
   "source": [
    "len(df_aye_alvin)"
   ]
  },
  {
   "cell_type": "code",
   "execution_count": 78,
   "metadata": {},
   "outputs": [
    {
     "data": {
      "text/html": [
       "<div>\n",
       "<style scoped>\n",
       "    .dataframe tbody tr th:only-of-type {\n",
       "        vertical-align: middle;\n",
       "    }\n",
       "\n",
       "    .dataframe tbody tr th {\n",
       "        vertical-align: top;\n",
       "    }\n",
       "\n",
       "    .dataframe thead th {\n",
       "        text-align: right;\n",
       "    }\n",
       "</style>\n",
       "<table border=\"1\" class=\"dataframe\">\n",
       "  <thead>\n",
       "    <tr style=\"text-align: right;\">\n",
       "      <th></th>\n",
       "      <th>key_id</th>\n",
       "      <th>probabilities_aye</th>\n",
       "      <th>class_id_aye</th>\n",
       "      <th>probabilities_linc</th>\n",
       "      <th>class_id_linc</th>\n",
       "    </tr>\n",
       "  </thead>\n",
       "  <tbody>\n",
       "  </tbody>\n",
       "</table>\n",
       "</div>"
      ],
      "text/plain": [
       "Empty DataFrame\n",
       "Columns: [key_id, probabilities_aye, class_id_aye, probabilities_linc, class_id_linc]\n",
       "Index: []"
      ]
     },
     "execution_count": 78,
     "metadata": {},
     "output_type": "execute_result"
    }
   ],
   "source": [
    "df_aye_linc = pd.merge(df_aye, df_linc, on='key_id')\n",
    "df_aye_linc.head()"
   ]
  },
  {
   "cell_type": "code",
   "execution_count": 79,
   "metadata": {},
   "outputs": [
    {
     "data": {
      "text/html": [
       "<div>\n",
       "<style scoped>\n",
       "    .dataframe tbody tr th:only-of-type {\n",
       "        vertical-align: middle;\n",
       "    }\n",
       "\n",
       "    .dataframe tbody tr th {\n",
       "        vertical-align: top;\n",
       "    }\n",
       "\n",
       "    .dataframe thead th {\n",
       "        text-align: right;\n",
       "    }\n",
       "</style>\n",
       "<table border=\"1\" class=\"dataframe\">\n",
       "  <thead>\n",
       "    <tr style=\"text-align: right;\">\n",
       "      <th></th>\n",
       "      <th>key_id</th>\n",
       "      <th>probabilities_aye</th>\n",
       "      <th>class_id_aye</th>\n",
       "      <th>probabilities_elmo</th>\n",
       "      <th>class_id_elmo</th>\n",
       "    </tr>\n",
       "  </thead>\n",
       "  <tbody>\n",
       "  </tbody>\n",
       "</table>\n",
       "</div>"
      ],
      "text/plain": [
       "Empty DataFrame\n",
       "Columns: [key_id, probabilities_aye, class_id_aye, probabilities_elmo, class_id_elmo]\n",
       "Index: []"
      ]
     },
     "execution_count": 79,
     "metadata": {},
     "output_type": "execute_result"
    }
   ],
   "source": [
    "df_aye_elmo = pd.merge(df_aye, df_elmo, on='key_id')\n",
    "df_aye_elmo.head()"
   ]
  },
  {
   "cell_type": "code",
   "execution_count": 80,
   "metadata": {},
   "outputs": [
    {
     "data": {
      "text/html": [
       "<div>\n",
       "<style scoped>\n",
       "    .dataframe tbody tr th:only-of-type {\n",
       "        vertical-align: middle;\n",
       "    }\n",
       "\n",
       "    .dataframe tbody tr th {\n",
       "        vertical-align: top;\n",
       "    }\n",
       "\n",
       "    .dataframe thead th {\n",
       "        text-align: right;\n",
       "    }\n",
       "</style>\n",
       "<table border=\"1\" class=\"dataframe\">\n",
       "  <thead>\n",
       "    <tr style=\"text-align: right;\">\n",
       "      <th></th>\n",
       "      <th>key_id</th>\n",
       "      <th>probabilities_linc</th>\n",
       "      <th>class_id_linc</th>\n",
       "      <th>probabilities_elmo</th>\n",
       "      <th>class_id_elmo</th>\n",
       "    </tr>\n",
       "  </thead>\n",
       "  <tbody>\n",
       "  </tbody>\n",
       "</table>\n",
       "</div>"
      ],
      "text/plain": [
       "Empty DataFrame\n",
       "Columns: [key_id, probabilities_linc, class_id_linc, probabilities_elmo, class_id_elmo]\n",
       "Index: []"
      ]
     },
     "execution_count": 80,
     "metadata": {},
     "output_type": "execute_result"
    }
   ],
   "source": [
    "df_linc_elmo = pd.merge(df_linc, df_elmo, on='key_id')\n",
    "df_linc_elmo.head()"
   ]
  },
  {
   "cell_type": "code",
   "execution_count": 101,
   "metadata": {},
   "outputs": [
    {
     "data": {
      "text/plain": [
       "False"
      ]
     },
     "execution_count": 101,
     "metadata": {},
     "output_type": "execute_result"
    }
   ],
   "source": [
    "6010760482258944 in df_elmo['key_id'].values"
   ]
  },
  {
   "cell_type": "code",
   "execution_count": 102,
   "metadata": {},
   "outputs": [
    {
     "data": {
      "text/plain": [
       "False"
      ]
     },
     "execution_count": 102,
     "metadata": {},
     "output_type": "execute_result"
    }
   ],
   "source": [
    "6010760482258944 in df_linc['key_id'].values"
   ]
  },
  {
   "cell_type": "code",
   "execution_count": 103,
   "metadata": {},
   "outputs": [
    {
     "data": {
      "text/plain": [
       "True"
      ]
     },
     "execution_count": 103,
     "metadata": {},
     "output_type": "execute_result"
    }
   ],
   "source": [
    "6010760482258944 in df_aye['key_id'].values"
   ]
  },
  {
   "cell_type": "code",
   "execution_count": 104,
   "metadata": {},
   "outputs": [
    {
     "data": {
      "text/plain": [
       "True"
      ]
     },
     "execution_count": 104,
     "metadata": {},
     "output_type": "execute_result"
    }
   ],
   "source": [
    "5590618845741056 in df_elmo['key_id'].values"
   ]
  },
  {
   "cell_type": "code",
   "execution_count": 105,
   "metadata": {},
   "outputs": [
    {
     "data": {
      "text/plain": [
       "False"
      ]
     },
     "execution_count": 105,
     "metadata": {},
     "output_type": "execute_result"
    }
   ],
   "source": [
    "5590618845741056 in df_linc['key_id'].values"
   ]
  },
  {
   "cell_type": "code",
   "execution_count": 106,
   "metadata": {},
   "outputs": [
    {
     "data": {
      "text/plain": [
       "False"
      ]
     },
     "execution_count": 106,
     "metadata": {},
     "output_type": "execute_result"
    }
   ],
   "source": [
    "5590618845741056 in df_aye['key_id'].values"
   ]
  },
  {
   "cell_type": "code",
   "execution_count": 107,
   "metadata": {},
   "outputs": [
    {
     "data": {
      "text/plain": [
       "False"
      ]
     },
     "execution_count": 107,
     "metadata": {},
     "output_type": "execute_result"
    }
   ],
   "source": [
    "4752894672764928 in df_elmo['key_id'].values"
   ]
  },
  {
   "cell_type": "code",
   "execution_count": 108,
   "metadata": {},
   "outputs": [
    {
     "data": {
      "text/plain": [
       "True"
      ]
     },
     "execution_count": 108,
     "metadata": {},
     "output_type": "execute_result"
    }
   ],
   "source": [
    "4752894672764928 in df_linc['key_id'].values"
   ]
  },
  {
   "cell_type": "code",
   "execution_count": 109,
   "metadata": {},
   "outputs": [
    {
     "data": {
      "text/plain": [
       "False"
      ]
     },
     "execution_count": 109,
     "metadata": {},
     "output_type": "execute_result"
    }
   ],
   "source": [
    "4752894672764928 in df_aye['key_id'].values"
   ]
  },
  {
   "cell_type": "code",
   "execution_count": null,
   "metadata": {},
   "outputs": [],
   "source": []
  },
  {
   "cell_type": "code",
   "execution_count": null,
   "metadata": {
    "_uuid": "3faa3e44fdca9df2c03c82fee1ad01f10aff1b36"
   },
   "outputs": [],
   "source": []
  }
 ],
 "metadata": {
  "kernelspec": {
   "display_name": "Python 3",
   "language": "python",
   "name": "python3"
  },
  "language_info": {
   "codemirror_mode": {
    "name": "ipython",
    "version": 3
   },
   "file_extension": ".py",
   "mimetype": "text/x-python",
   "name": "python",
   "nbconvert_exporter": "python",
   "pygments_lexer": "ipython3",
   "version": "3.6.7"
  }
 },
 "nbformat": 4,
 "nbformat_minor": 1
}
